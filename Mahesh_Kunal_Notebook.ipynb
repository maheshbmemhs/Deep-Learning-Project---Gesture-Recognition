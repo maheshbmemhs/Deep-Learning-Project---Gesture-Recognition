{
 "cells": [
  {
   "cell_type": "markdown",
   "metadata": {
    "colab_type": "text",
    "id": "kzbrPyVIJVF9"
   },
   "source": [
    "# Gesture Recognition\n",
    "please note this notebook has been executed in google colab"
   ]
  },
  {
   "cell_type": "markdown",
   "metadata": {},
   "source": [
    "<a href='#section1'>Click Here to jump to Best Model</a><br>\n",
    "<a href='#section2'>Click Here to jump to 2nd Best Model</a>"
   ]
  },
  {
   "cell_type": "code",
   "execution_count": 0,
   "metadata": {
    "colab": {},
    "colab_type": "code",
    "id": "RSfnd-VvJVGG",
    "scrolled": true
   },
   "outputs": [],
   "source": [
    "import numpy as np\n",
    "import os\n",
    "#from scipy.misc import imread, imresize\n",
    "import imageio\n",
    "import datetime\n",
    "import os\n",
    "import matplotlib.pyplot as plt\n",
    "from keras.preprocessing import image as imge"
   ]
  },
  {
   "cell_type": "code",
   "execution_count": 223,
   "metadata": {
    "colab": {
     "base_uri": "https://localhost:8080/",
     "height": 35
    },
    "colab_type": "code",
    "executionInfo": {
     "elapsed": 1742,
     "status": "ok",
     "timestamp": 1583163042012,
     "user": {
      "displayName": "mahesh karigoudar",
      "photoUrl": "https://lh3.googleusercontent.com/a-/AOh14Gi_yTUQrvxGFb7UM73B9yjv83kCtzRRN_EMGbsPgQ=s64",
      "userId": "04943900557129435620"
     },
     "user_tz": -330
    },
    "id": "4qPgMLE7KaYa",
    "outputId": "31edda8c-80ce-433e-c5ca-6d3d2db0fe2e"
   },
   "outputs": [
    {
     "name": "stdout",
     "output_type": "stream",
     "text": [
      "Drive already mounted at /content/drive; to attempt to forcibly remount, call drive.mount(\"/content/drive\", force_remount=True).\n"
     ]
    }
   ],
   "source": [
    "from google.colab import drive\n",
    "drive.mount('/content/drive')"
   ]
  },
  {
   "cell_type": "code",
   "execution_count": 224,
   "metadata": {
    "colab": {
     "base_uri": "https://localhost:8080/",
     "height": 555
    },
    "colab_type": "code",
    "executionInfo": {
     "elapsed": 1709,
     "status": "ok",
     "timestamp": 1583163042013,
     "user": {
      "displayName": "mahesh karigoudar",
      "photoUrl": "https://lh3.googleusercontent.com/a-/AOh14Gi_yTUQrvxGFb7UM73B9yjv83kCtzRRN_EMGbsPgQ=s64",
      "userId": "04943900557129435620"
     },
     "user_tz": -330
    },
    "id": "0JOuGokqJVGR",
    "outputId": "3b736fab-1505-44de-8119-469f81d0e483"
   },
   "outputs": [
    {
     "name": "stdout",
     "output_type": "stream",
     "text": [
      "[name: \"/device:CPU:0\"\n",
      "device_type: \"CPU\"\n",
      "memory_limit: 268435456\n",
      "locality {\n",
      "}\n",
      "incarnation: 1213991442127899050\n",
      ", name: \"/device:XLA_CPU:0\"\n",
      "device_type: \"XLA_CPU\"\n",
      "memory_limit: 17179869184\n",
      "locality {\n",
      "}\n",
      "incarnation: 7036689785700214840\n",
      "physical_device_desc: \"device: XLA_CPU device\"\n",
      ", name: \"/device:XLA_GPU:0\"\n",
      "device_type: \"XLA_GPU\"\n",
      "memory_limit: 17179869184\n",
      "locality {\n",
      "}\n",
      "incarnation: 9582048350181466328\n",
      "physical_device_desc: \"device: XLA_GPU device\"\n",
      ", name: \"/device:GPU:0\"\n",
      "device_type: \"GPU\"\n",
      "memory_limit: 15956161332\n",
      "locality {\n",
      "  bus_id: 1\n",
      "  links {\n",
      "  }\n",
      "}\n",
      "incarnation: 2374972587752065109\n",
      "physical_device_desc: \"device: 0, name: Tesla P100-PCIE-16GB, pci bus id: 0000:00:04.0, compute capability: 6.0\"\n",
      "]\n"
     ]
    }
   ],
   "source": [
    "from tensorflow.python.client import device_lib\n",
    "print(device_lib.list_local_devices())"
   ]
  },
  {
   "cell_type": "markdown",
   "metadata": {
    "colab_type": "text",
    "id": "wJf6z-MPJVGd"
   },
   "source": [
    "We set the random seed so that the results don't vary drastically."
   ]
  },
  {
   "cell_type": "code",
   "execution_count": 0,
   "metadata": {
    "colab": {},
    "colab_type": "code",
    "id": "-4eFmAvnJVGg",
    "scrolled": true
   },
   "outputs": [],
   "source": [
    "np.random.seed(30)\n",
    "import random as rn\n",
    "rn.seed(30)\n",
    "from keras import backend as K\n",
    "import tensorflow as tf\n",
    "#tf.compat.v1.set_random_seed(30)\n",
    "tf.set_random_seed(30)"
   ]
  },
  {
   "cell_type": "markdown",
   "metadata": {
    "colab_type": "text",
    "id": "cpq8P2tCJVGq"
   },
   "source": [
    "In this block, you read the folder names for training and validation. You also set the `batch_size` here. Note that you set the batch size in such a way that you are able to use the GPU in full capacity. You keep increasing the batch size until the machine throws an error."
   ]
  },
  {
   "cell_type": "code",
   "execution_count": 0,
   "metadata": {
    "colab": {},
    "colab_type": "code",
    "id": "sub1RDFoJVGw"
   },
   "outputs": [],
   "source": [
    "train_doc = np.random.permutation(open('/content/drive/My Drive/data science/Project_data/train.csv').readlines())\n",
    "val_doc = np.random.permutation(open('/content/drive/My Drive/data science/Project_data/val.csv').readlines())\n",
    "batch_size = 25 #experiment with the batch size"
   ]
  },
  {
   "cell_type": "code",
   "execution_count": 227,
   "metadata": {
    "colab": {
     "base_uri": "https://localhost:8080/",
     "height": 35
    },
    "colab_type": "code",
    "executionInfo": {
     "elapsed": 2776,
     "status": "ok",
     "timestamp": 1583163043150,
     "user": {
      "displayName": "mahesh karigoudar",
      "photoUrl": "https://lh3.googleusercontent.com/a-/AOh14Gi_yTUQrvxGFb7UM73B9yjv83kCtzRRN_EMGbsPgQ=s64",
      "userId": "04943900557129435620"
     },
     "user_tz": -330
    },
    "id": "NcNYegFXJVG4",
    "outputId": "454ec1a1-162d-4aeb-f7d8-c5119cf742ce"
   },
   "outputs": [
    {
     "data": {
      "text/plain": [
       "663"
      ]
     },
     "execution_count": 227,
     "metadata": {
      "tags": []
     },
     "output_type": "execute_result"
    }
   ],
   "source": [
    "\n",
    "len(train_doc)"
   ]
  },
  {
   "cell_type": "markdown",
   "metadata": {
    "colab_type": "text",
    "id": "mWlGeExvJVHF"
   },
   "source": [
    "## Generator\n",
    "This is one of the most important part of the code. The overall structure of the generator has been given. In the generator, you are going to preprocess the images as you have images of 2 different dimensions as well as create a batch of video frames. You have to experiment with `img_idx`, `y`,`z` and normalization such that you get high accuracy."
   ]
  },
  {
   "cell_type": "code",
   "execution_count": 228,
   "metadata": {
    "colab": {
     "base_uri": "https://localhost:8080/",
     "height": 139
    },
    "colab_type": "code",
    "executionInfo": {
     "elapsed": 2744,
     "status": "ok",
     "timestamp": 1583163043151,
     "user": {
      "displayName": "mahesh karigoudar",
      "photoUrl": "https://lh3.googleusercontent.com/a-/AOh14Gi_yTUQrvxGFb7UM73B9yjv83kCtzRRN_EMGbsPgQ=s64",
      "userId": "04943900557129435620"
     },
     "user_tz": -330
    },
    "id": "OENRCsXfJVHH",
    "outputId": "ebbac647-59de-493b-80a5-8b9e398aad8f",
    "scrolled": true
   },
   "outputs": [
    {
     "data": {
      "text/plain": [
       "array([[119, 121, 115, ..., 140, 137, 136],\n",
       "       [125, 122, 120, ..., 137, 135, 132],\n",
       "       [132, 134, 134, ..., 133, 135, 134],\n",
       "       ...,\n",
       "       [143, 105,  60, ...,  63,  69,  73],\n",
       "       [103,  63,  44, ...,  62,  70,  75],\n",
       "       [ 22,  21,  34, ...,  66,  71,  72]], dtype=uint8)"
      ]
     },
     "execution_count": 228,
     "metadata": {
      "tags": []
     },
     "output_type": "execute_result"
    }
   ],
   "source": [
    "image1 = imge.load_img(r'/content/drive/My Drive/data science/Project_data/train/WIN_20180907_15_35_09_Pro_Right Swipe_new/WIN_20180907_15_35_09_Pro_00012.png', target_size=(100,100,3))\n",
    "np.array(image1)[:,:,0]                "
   ]
  },
  {
   "cell_type": "code",
   "execution_count": 0,
   "metadata": {
    "colab": {},
    "colab_type": "code",
    "id": "LkyRkItOJVHZ"
   },
   "outputs": [],
   "source": [
    "def load_batch_images(source_path, folder_list, batch, batch_size, t,validation):\n",
    "    x=20\n",
    "    y=100\n",
    "    z=100\n",
    "    img_idx = [x for x in range(10,30)]\n",
    "    batch_data = np.zeros((batch_size,x,y,z,3)) # x is the number of images you use for each video, (y,z) is the final size of the input images and 3 is the number of channels RGB\n",
    "    batch_labels = np.zeros((batch_size,5)) # batch_labels is the one hot representation of the output\n",
    "    for folder in range(batch_size): # iterate over the batch_size\n",
    "        imgs = os.listdir(source_path+'/'+ t[folder + (batch*batch_size)].split(';')[0]) # read all the images in the folder\n",
    "        for idx,item in enumerate(img_idx): #  Iterate iver the frames/images of a folder to read them in\n",
    "            image = imge.load_img(source_path+'/'+ t[folder + (batch*batch_size)].strip().split(';')[0]+'/'+imgs[item], target_size=(y,z,3))\n",
    "                    \n",
    "                    #crop the images and resize them. Note that the images are of 2 different shape \n",
    "                    #and the conv3D will throw error if the inputs in a batch have different shapes\n",
    "                    \n",
    "            batch_data[folder,idx,:,:,0] =np.array(image)[:,:,0]/127.5-1  #normalise and feed in the image\n",
    "            batch_data[folder,idx,:,:,1] =np.array(image)[:,:,1]/127.5-1 #normalise and feed in the image\n",
    "            batch_data[folder,idx,:,:,2] =np.array(image)[:,:,2]/127.5-1 #normalise and feed in the image\n",
    "\n",
    "                    \n",
    "        batch_labels[folder, int(t[folder + (batch*batch_size)].strip().split(';')[2])] = 1\n",
    "        return batch_data, batch_labels #you yield the batch_data and the batch_labels, remember what does yield do\n"
   ]
  },
  {
   "cell_type": "code",
   "execution_count": 0,
   "metadata": {
    "colab": {},
    "colab_type": "code",
    "id": "NryG_NoRJVHo"
   },
   "outputs": [],
   "source": [
    "def generator(source_path, folder_list, batch_size, validation=False):\n",
    "    print( 'Source path = ', source_path, '; batch size =', batch_size)\n",
    "    batch_size_temp=batch_size\n",
    "    while True:\n",
    "        batch_size=batch_size_temp\n",
    "        t = np.random.permutation(folder_list)\n",
    "        num_batches = len(folder_list)//batch_size # calculate the number of batches\n",
    "        for batch in range(num_batches): # we iterate over the number of batches\n",
    "            # you yield the batch_data and the batch_labels, remember what does yield do\n",
    "            yield load_batch_images(source_path, folder_list, batch, batch_size, t,validation)\n",
    "            \n",
    "\n",
    "        \n",
    "        # Code for the remaining data points which are left after full batches\n",
    "        if (len(folder_list) != batch_size*num_batches):\n",
    "            batch_size = len(folder_list) - (batch_size*num_batches)\n",
    "            yield load_batch_images(source_path, folder_list, batch, batch_size, t,validation)"
   ]
  },
  {
   "cell_type": "code",
   "execution_count": 0,
   "metadata": {
    "colab": {},
    "colab_type": "code",
    "id": "oh8ss3aHJVHy"
   },
   "outputs": [],
   "source": []
  },
  {
   "cell_type": "markdown",
   "metadata": {
    "colab_type": "text",
    "id": "D20XzEt2JVH5"
   },
   "source": [
    "Note here that a video is represented above in the generator as (number of images, height, width, number of channels). Take this into consideration while creating the model architecture."
   ]
  },
  {
   "cell_type": "code",
   "execution_count": 232,
   "metadata": {
    "colab": {
     "base_uri": "https://localhost:8080/",
     "height": 69
    },
    "colab_type": "code",
    "executionInfo": {
     "elapsed": 2585,
     "status": "ok",
     "timestamp": 1583163043154,
     "user": {
      "displayName": "mahesh karigoudar",
      "photoUrl": "https://lh3.googleusercontent.com/a-/AOh14Gi_yTUQrvxGFb7UM73B9yjv83kCtzRRN_EMGbsPgQ=s64",
      "userId": "04943900557129435620"
     },
     "user_tz": -330
    },
    "id": "shIemNh-JVH8",
    "outputId": "33d81abb-63d7-463a-d9b2-9b8cd89bcd2b"
   },
   "outputs": [
    {
     "name": "stdout",
     "output_type": "stream",
     "text": [
      "# training sequences = 663\n",
      "# validation sequences = 100\n",
      "# epochs = 3\n"
     ]
    }
   ],
   "source": [
    "curr_dt_time = datetime.datetime.now()\n",
    "train_path = r'/content/drive/My Drive/data science/Project_data/train'\n",
    "val_path = '/content/drive/My Drive/data science/Project_data/val'\n",
    "num_train_sequences = len(train_doc)\n",
    "print('# training sequences =', num_train_sequences)\n",
    "num_val_sequences = len(val_doc)\n",
    "print('# validation sequences =', num_val_sequences)\n",
    "num_epochs = 3# choose the number of epochs\n",
    "print ('# epochs =', num_epochs)"
   ]
  },
  {
   "cell_type": "markdown",
   "metadata": {
    "colab_type": "text",
    "id": "-0Sx2pNGJVIG"
   },
   "source": [
    "<a id='section2'></a>\n",
    "\n",
    "## Model 1 (model with 98% accuracy with 52 million trainable parameters)\n"
   ]
  },
  {
   "cell_type": "code",
   "execution_count": 0,
   "metadata": {
    "colab": {},
    "colab_type": "code",
    "id": "MB1F3zrBJVII"
   },
   "outputs": [],
   "source": [
    "from keras.models import Sequential, Model\n",
    "from keras.layers import Dense, GRU, Flatten, TimeDistributed, Flatten, BatchNormalization, Activation\n",
    "from keras.layers.convolutional import Conv3D, MaxPooling3D\n",
    "from keras.callbacks import ModelCheckpoint, ReduceLROnPlateau\n",
    "from keras.layers import Dense, Dropout, Activation, Flatten\n",
    "from keras import optimizers\n",
    "\n",
    "#write your model here\n",
    "model = Sequential()\n",
    "model.add(Conv3D(32, (3, 3,3), padding='same',\n",
    "                 input_shape=[20, 100, 100, 3]))\n",
    "model.add(Activation('relu'))\n",
    "model.add(Conv3D(32, (3, 3,3)))\n",
    "model.add(Activation('relu'))\n",
    "model.add(MaxPooling3D(pool_size=(2, 2,2)))\n",
    "model.add(Dropout(0.25))\n",
    "\n",
    "model.add(Conv3D(64, (3, 3,3), padding='same'))\n",
    "model.add(Activation('relu'))\n",
    "model.add(Conv3D(64, (3, 3,3)))\n",
    "model.add(Activation('relu'))\n",
    "model.add(MaxPooling3D(pool_size=(2, 2,2)))\n",
    "model.add(Dropout(0.25))\n",
    "\n",
    "model.add(Flatten())\n",
    "model.add(Dense(512))\n",
    "model.add(Activation('relu'))\n",
    "model.add(Dropout(0.5))\n",
    "model.add(Dense(5))\n",
    "model.add(Activation('softmax'))"
   ]
  },
  {
   "cell_type": "markdown",
   "metadata": {
    "colab_type": "text",
    "id": "Q0O67AjYJVIV"
   },
   "source": [
    "Now that you have written the model, the next step is to `compile` the model. When you print the `summary` of the model, you'll see the total number of parameters you have to train."
   ]
  },
  {
   "cell_type": "code",
   "execution_count": 234,
   "metadata": {
    "colab": {
     "base_uri": "https://localhost:8080/",
     "height": 797
    },
    "colab_type": "code",
    "executionInfo": {
     "elapsed": 2524,
     "status": "ok",
     "timestamp": 1583163043156,
     "user": {
      "displayName": "mahesh karigoudar",
      "photoUrl": "https://lh3.googleusercontent.com/a-/AOh14Gi_yTUQrvxGFb7UM73B9yjv83kCtzRRN_EMGbsPgQ=s64",
      "userId": "04943900557129435620"
     },
     "user_tz": -330
    },
    "id": "fCP06U32JVIY",
    "outputId": "45c7254b-0c8a-4d74-d2b9-6104a685d7bf",
    "scrolled": true
   },
   "outputs": [
    {
     "name": "stdout",
     "output_type": "stream",
     "text": [
      "Model: \"sequential_16\"\n",
      "_________________________________________________________________\n",
      "Layer (type)                 Output Shape              Param #   \n",
      "=================================================================\n",
      "conv3d_59 (Conv3D)           (None, 20, 100, 100, 32)  2624      \n",
      "_________________________________________________________________\n",
      "activation_77 (Activation)   (None, 20, 100, 100, 32)  0         \n",
      "_________________________________________________________________\n",
      "conv3d_60 (Conv3D)           (None, 18, 98, 98, 32)    27680     \n",
      "_________________________________________________________________\n",
      "activation_78 (Activation)   (None, 18, 98, 98, 32)    0         \n",
      "_________________________________________________________________\n",
      "max_pooling3d_39 (MaxPooling (None, 9, 49, 49, 32)     0         \n",
      "_________________________________________________________________\n",
      "dropout_38 (Dropout)         (None, 9, 49, 49, 32)     0         \n",
      "_________________________________________________________________\n",
      "conv3d_61 (Conv3D)           (None, 9, 49, 49, 64)     55360     \n",
      "_________________________________________________________________\n",
      "activation_79 (Activation)   (None, 9, 49, 49, 64)     0         \n",
      "_________________________________________________________________\n",
      "conv3d_62 (Conv3D)           (None, 7, 47, 47, 64)     110656    \n",
      "_________________________________________________________________\n",
      "activation_80 (Activation)   (None, 7, 47, 47, 64)     0         \n",
      "_________________________________________________________________\n",
      "max_pooling3d_40 (MaxPooling (None, 3, 23, 23, 64)     0         \n",
      "_________________________________________________________________\n",
      "dropout_39 (Dropout)         (None, 3, 23, 23, 64)     0         \n",
      "_________________________________________________________________\n",
      "flatten_18 (Flatten)         (None, 101568)            0         \n",
      "_________________________________________________________________\n",
      "dense_38 (Dense)             (None, 512)               52003328  \n",
      "_________________________________________________________________\n",
      "activation_81 (Activation)   (None, 512)               0         \n",
      "_________________________________________________________________\n",
      "dropout_40 (Dropout)         (None, 512)               0         \n",
      "_________________________________________________________________\n",
      "dense_39 (Dense)             (None, 5)                 2565      \n",
      "_________________________________________________________________\n",
      "activation_82 (Activation)   (None, 5)                 0         \n",
      "=================================================================\n",
      "Total params: 52,202,213\n",
      "Trainable params: 52,202,213\n",
      "Non-trainable params: 0\n",
      "_________________________________________________________________\n",
      "None\n"
     ]
    }
   ],
   "source": [
    "rate = 0.001\n",
    "optimiser = optimizers.Adam(lr=rate)  #write your optimizer\n",
    "model.compile(optimizer=optimiser, loss='categorical_crossentropy', metrics=['categorical_accuracy'])\n",
    "print (model.summary())"
   ]
  },
  {
   "cell_type": "markdown",
   "metadata": {
    "colab_type": "text",
    "id": "QAa7eBd3JVIj"
   },
   "source": [
    "Let us create the `train_generator` and the `val_generator` which will be used in `.fit_generator`."
   ]
  },
  {
   "cell_type": "code",
   "execution_count": 0,
   "metadata": {
    "colab": {},
    "colab_type": "code",
    "id": "_2an-vOoJVIm"
   },
   "outputs": [],
   "source": [
    "train_generator = generator(train_path, train_doc, batch_size)\n",
    "val_generator = generator(val_path, val_doc, batch_size)"
   ]
  },
  {
   "cell_type": "code",
   "execution_count": 236,
   "metadata": {
    "colab": {
     "base_uri": "https://localhost:8080/",
     "height": 52
    },
    "colab_type": "code",
    "executionInfo": {
     "elapsed": 2470,
     "status": "ok",
     "timestamp": 1583163043157,
     "user": {
      "displayName": "mahesh karigoudar",
      "photoUrl": "https://lh3.googleusercontent.com/a-/AOh14Gi_yTUQrvxGFb7UM73B9yjv83kCtzRRN_EMGbsPgQ=s64",
      "userId": "04943900557129435620"
     },
     "user_tz": -330
    },
    "id": "HoOAxgdWJVI2",
    "outputId": "6a1fcf79-3880-475a-fe03-021d5c54406a"
   },
   "outputs": [
    {
     "name": "stdout",
     "output_type": "stream",
     "text": [
      "Source path =  /content/drive/My Drive/data science/Project_data/train ; batch size = 25\n"
     ]
    },
    {
     "data": {
      "text/plain": [
       "(25, 20, 100, 100, 3)"
      ]
     },
     "execution_count": 236,
     "metadata": {
      "tags": []
     },
     "output_type": "execute_result"
    }
   ],
   "source": [
    "batch_data, batch_labels=next(train_generator)\n",
    "batch_data.shape"
   ]
  },
  {
   "cell_type": "code",
   "execution_count": 0,
   "metadata": {
    "colab": {},
    "colab_type": "code",
    "id": "0u09svfaJVJL"
   },
   "outputs": [],
   "source": [
    "model_name = 'model_init' + '_' + str(curr_dt_time).replace(' ','').replace(':','_') + '/'\n",
    "    \n",
    "if not os.path.exists(model_name):\n",
    "    os.mkdir(model_name)\n",
    "        \n",
    "filepath = model_name + 'model-{epoch:05d}-{loss:.5f}-{categorical_accuracy:.5f}-{val_loss:.5f}-{val_categorical_accuracy:.5f}.h5'\n",
    "\n",
    "checkpoint = ModelCheckpoint(filepath, monitor='val_loss', verbose=1, save_best_only=False, save_weights_only=False, mode='auto', period=1)\n",
    "\n",
    "LR =ReduceLROnPlateau(monitor='val_loss', factor=0.5, patience=2, cooldown=1, verbose=1) # write the REducelronplateau code here\n",
    "callbacks_list = [checkpoint, LR]"
   ]
  },
  {
   "cell_type": "markdown",
   "metadata": {
    "colab_type": "text",
    "id": "S-ofF2KpJVJU"
   },
   "source": [
    "The `steps_per_epoch` and `validation_steps` are used by `fit_generator` to decide the number of next() calls it need to make."
   ]
  },
  {
   "cell_type": "code",
   "execution_count": 0,
   "metadata": {
    "colab": {},
    "colab_type": "code",
    "id": "twD4dvvNJVJX"
   },
   "outputs": [],
   "source": [
    "if (num_train_sequences%batch_size) == 0:\n",
    "    steps_per_epoch = int(num_train_sequences/batch_size)\n",
    "else:\n",
    "    steps_per_epoch = (num_train_sequences//batch_size) + 1\n",
    "\n",
    "if (num_val_sequences%batch_size) == 0:\n",
    "    validation_steps = int(num_val_sequences/batch_size)\n",
    "else:\n",
    "    validation_steps = (num_val_sequences//batch_size) + 1"
   ]
  },
  {
   "cell_type": "markdown",
   "metadata": {},
   "source": [
    "**Please Note: 1st execute till here before executing any Models**"
   ]
  },
  {
   "cell_type": "markdown",
   "metadata": {
    "colab_type": "text",
    "id": "DIL4KwJ5JVJm"
   },
   "source": [
    "Let us now fit the model. This will start training the model and with the help of the checkpoints, you'll be able to save the model at the end of each epoch."
   ]
  },
  {
   "cell_type": "code",
   "execution_count": 63,
   "metadata": {
    "colab": {
     "base_uri": "https://localhost:8080/",
     "height": 228
    },
    "colab_type": "code",
    "executionInfo": {
     "elapsed": 499972,
     "status": "ok",
     "timestamp": 1583159042524,
     "user": {
      "displayName": "mahesh karigoudar",
      "photoUrl": "https://lh3.googleusercontent.com/a-/AOh14Gi_yTUQrvxGFb7UM73B9yjv83kCtzRRN_EMGbsPgQ=s64",
      "userId": "04943900557129435620"
     },
     "user_tz": -330
    },
    "id": "50V45xNyJVJp",
    "outputId": "a519dbdb-8b1a-4b77-fe66-0dee733c685c",
    "scrolled": true
   },
   "outputs": [
    {
     "name": "stdout",
     "output_type": "stream",
     "text": [
      "Epoch 1/5\n",
      "Source path =  /content/drive/My Drive/data science/Project_data/val ; batch size = 50\n",
      "14/14 [==============================] - 14s 987ms/step - loss: 0.2102 - categorical_accuracy: 0.9857 - val_loss: 0.3224 - val_categorical_accuracy: 0.9800\n",
      "Epoch 2/5\n",
      "14/14 [==============================] - 89s 6s/step - loss: 0.2692 - categorical_accuracy: 0.9833 - val_loss: 0.3224 - val_categorical_accuracy: 0.9800\n",
      "Epoch 3/5\n",
      "14/14 [==============================] - 121s 9s/step - loss: 0.3385 - categorical_accuracy: 0.9790 - val_loss: 0.1612 - val_categorical_accuracy: 0.9900\n",
      "Epoch 4/5\n",
      "14/14 [==============================] - 144s 10s/step - loss: 0.3154 - categorical_accuracy: 0.9804 - val_loss: 0.1612 - val_categorical_accuracy: 0.9900\n",
      "Epoch 5/5\n",
      "14/14 [==============================] - 129s 9s/step - loss: 0.3385 - categorical_accuracy: 0.9790 - val_loss: 0.3224 - val_categorical_accuracy: 0.9800\n"
     ]
    }
   ],
   "source": [
    "history=model.fit_generator(train_generator, steps_per_epoch=steps_per_epoch, epochs=5, verbose=1, \n",
    "                    validation_data=val_generator, \n",
    "                    validation_steps=validation_steps,\n",
    "                    class_weight=None, \n",
    "                    workers=1, \n",
    "                    initial_epoch=0)"
   ]
  },
  {
   "cell_type": "code",
   "execution_count": 64,
   "metadata": {
    "colab": {
     "base_uri": "https://localhost:8080/",
     "height": 295
    },
    "colab_type": "code",
    "executionInfo": {
     "elapsed": 1679,
     "status": "ok",
     "timestamp": 1583159170041,
     "user": {
      "displayName": "mahesh karigoudar",
      "photoUrl": "https://lh3.googleusercontent.com/a-/AOh14Gi_yTUQrvxGFb7UM73B9yjv83kCtzRRN_EMGbsPgQ=s64",
      "userId": "04943900557129435620"
     },
     "user_tz": -330
    },
    "id": "R7EnmHsgJVJw",
    "outputId": "bd54fb04-7578-4a49-81f9-d86e45e0ce5a"
   },
   "outputs": [
    {
     "data": {
      "image/png": "[encoded data removed]",
      "text/plain": [
       "<Figure size 432x288 with 1 Axes>"
      ]
     },
     "metadata": {
      "tags": []
     },
     "output_type": "display_data"
    }
   ],
   "source": [
    "plt.plot(history.history['categorical_accuracy'])\n",
    "plt.plot(history.history['val_categorical_accuracy'])\n",
    "plt.title('model accuracy')\n",
    "plt.ylabel('accuracy')\n",
    "plt.xlabel('epoch')\n",
    "plt.legend(['train', 'test'], loc='upper left')\n",
    "plt.show()"
   ]
  },
  {
   "cell_type": "markdown",
   "metadata": {},
   "source": [
    "#### The model1 has preety good accuracy but very complex with 52 million tranable parameters"
   ]
  },
  {
   "cell_type": "markdown",
   "metadata": {
    "colab_type": "text",
    "id": "Iww2reodmsjB"
   },
   "source": [
    "## Model 2 CNN3D \n",
    "\n",
    "model with reduced number of filters but adding more layers"
   ]
  },
  {
   "cell_type": "code",
   "execution_count": 0,
   "metadata": {
    "colab": {},
    "colab_type": "code",
    "id": "2_be41jxNZtH"
   },
   "outputs": [],
   "source": [
    "from keras.models import Sequential, Model\n",
    "from keras.layers import Dense, GRU, Flatten, TimeDistributed, Flatten, BatchNormalization, Activation\n",
    "from keras.layers.convolutional import Conv3D, MaxPooling3D\n",
    "from keras.callbacks import ModelCheckpoint, ReduceLROnPlateau\n",
    "from keras.layers import Dense, Dropout, Activation, Flatten\n",
    "from keras import optimizers\n",
    "\n",
    "#write your model here\n",
    "from keras.models import Sequential, Model\n",
    "from keras.layers import Dense, GRU, Flatten, TimeDistributed, Flatten, BatchNormalization, Activation, Dropout\n",
    "from keras.layers.convolutional import Conv3D, MaxPooling3D\n",
    "from keras.callbacks import ModelCheckpoint, ReduceLROnPlateau\n",
    "from keras import optimizers\n",
    "\n",
    "#write your model here\n",
    "nb_filters = [8,16,32,64]\n",
    "nb_dense = [1000, 500, 5]\n",
    "\n",
    "model = Sequential()\n",
    "\n",
    "model.add(Conv3D(nb_filters[0], \n",
    "                 kernel_size=(3,3,3), \n",
    "                 input_shape=[20, 100, 100, 3],\n",
    "                 padding='same'))\n",
    "model.add(BatchNormalization())\n",
    "model.add(Activation('relu'))\n",
    "\n",
    "model.add(MaxPooling3D(pool_size=(2,2,2)))\n",
    "\n",
    "model.add(Conv3D(nb_filters[1], \n",
    "                 kernel_size=(3,3,3), \n",
    "                 padding='same'))\n",
    "model.add(BatchNormalization())\n",
    "model.add(Activation('relu'))\n",
    "\n",
    "model.add(MaxPooling3D(pool_size=(2,2,2)))\n",
    "\n",
    "model.add(Conv3D(nb_filters[2], \n",
    "                 kernel_size=(1,3,3), \n",
    "                 padding='same'))\n",
    "model.add(BatchNormalization())\n",
    "model.add(Activation('relu'))\n",
    "\n",
    "model.add(MaxPooling3D(pool_size=(2,2,2)))\n",
    "\n",
    "model.add(Conv3D(nb_filters[3], \n",
    "                 kernel_size=(1,3,3), \n",
    "                 padding='same'))\n",
    "model.add(BatchNormalization())\n",
    "model.add(Activation('relu'))\n",
    "\n",
    "model.add(MaxPooling3D(pool_size=(2,2,2)))\n",
    "\n",
    "#Flatten Layers\n",
    "model.add(Flatten())\n",
    "\n",
    "model.add(Dense(nb_dense[0], activation='relu'))\n",
    "model.add(Dropout(0.5))\n",
    "\n",
    "model.add(Dense(nb_dense[1], activation='relu'))\n",
    "model.add(Dropout(0.5))\n",
    "\n",
    "#softmax layer\n",
    "model.add(Dense(nb_dense[2], activation='softmax'))\n",
    "\n"
   ]
  },
  {
   "cell_type": "code",
   "execution_count": 103,
   "metadata": {
    "colab": {
     "base_uri": "https://localhost:8080/",
     "height": 936
    },
    "colab_type": "code",
    "executionInfo": {
     "elapsed": 1254,
     "status": "ok",
     "timestamp": 1583159829495,
     "user": {
      "displayName": "mahesh karigoudar",
      "photoUrl": "https://lh3.googleusercontent.com/a-/AOh14Gi_yTUQrvxGFb7UM73B9yjv83kCtzRRN_EMGbsPgQ=s64",
      "userId": "04943900557129435620"
     },
     "user_tz": -330
    },
    "id": "tuFZFUzsN7OG",
    "outputId": "003f3a20-18b8-41fc-deaa-161edf361e09"
   },
   "outputs": [
    {
     "name": "stdout",
     "output_type": "stream",
     "text": [
      "Model: \"sequential_6\"\n",
      "_________________________________________________________________\n",
      "Layer (type)                 Output Shape              Param #   \n",
      "=================================================================\n",
      "conv3d_23 (Conv3D)           (None, 20, 100, 100, 8)   656       \n",
      "_________________________________________________________________\n",
      "batch_normalization_5 (Batch (None, 20, 100, 100, 8)   32        \n",
      "_________________________________________________________________\n",
      "activation_31 (Activation)   (None, 20, 100, 100, 8)   0         \n",
      "_________________________________________________________________\n",
      "max_pooling3d_13 (MaxPooling (None, 10, 50, 50, 8)     0         \n",
      "_________________________________________________________________\n",
      "conv3d_24 (Conv3D)           (None, 10, 50, 50, 16)    3472      \n",
      "_________________________________________________________________\n",
      "batch_normalization_6 (Batch (None, 10, 50, 50, 16)    64        \n",
      "_________________________________________________________________\n",
      "activation_32 (Activation)   (None, 10, 50, 50, 16)    0         \n",
      "_________________________________________________________________\n",
      "max_pooling3d_14 (MaxPooling (None, 5, 25, 25, 16)     0         \n",
      "_________________________________________________________________\n",
      "conv3d_25 (Conv3D)           (None, 5, 25, 25, 32)     4640      \n",
      "_________________________________________________________________\n",
      "batch_normalization_7 (Batch (None, 5, 25, 25, 32)     128       \n",
      "_________________________________________________________________\n",
      "activation_33 (Activation)   (None, 5, 25, 25, 32)     0         \n",
      "_________________________________________________________________\n",
      "max_pooling3d_15 (MaxPooling (None, 2, 12, 12, 32)     0         \n",
      "_________________________________________________________________\n",
      "conv3d_26 (Conv3D)           (None, 2, 12, 12, 64)     18496     \n",
      "_________________________________________________________________\n",
      "batch_normalization_8 (Batch (None, 2, 12, 12, 64)     256       \n",
      "_________________________________________________________________\n",
      "activation_34 (Activation)   (None, 2, 12, 12, 64)     0         \n",
      "_________________________________________________________________\n",
      "max_pooling3d_16 (MaxPooling (None, 1, 6, 6, 64)       0         \n",
      "_________________________________________________________________\n",
      "flatten_6 (Flatten)          (None, 2304)              0         \n",
      "_________________________________________________________________\n",
      "dense_12 (Dense)             (None, 1000)              2305000   \n",
      "_________________________________________________________________\n",
      "dropout_15 (Dropout)         (None, 1000)              0         \n",
      "_________________________________________________________________\n",
      "dense_13 (Dense)             (None, 500)               500500    \n",
      "_________________________________________________________________\n",
      "dropout_16 (Dropout)         (None, 500)               0         \n",
      "_________________________________________________________________\n",
      "dense_14 (Dense)             (None, 5)                 2505      \n",
      "=================================================================\n",
      "Total params: 2,835,749\n",
      "Trainable params: 2,835,509\n",
      "Non-trainable params: 240\n",
      "_________________________________________________________________\n",
      "None\n"
     ]
    }
   ],
   "source": [
    "optimiser ='adam' #write your optimizer\n",
    "model.compile(optimizer=optimiser, loss='categorical_crossentropy', metrics=['categorical_accuracy'])\n",
    "print (model.summary())"
   ]
  },
  {
   "cell_type": "code",
   "execution_count": null,
   "metadata": {},
   "outputs": [],
   "source": [
    "train_generator = generator(train_path, train_doc, batch_size)\n",
    "val_generator = generator(val_path, val_doc, batch_size)"
   ]
  },
  {
   "cell_type": "code",
   "execution_count": 104,
   "metadata": {
    "colab": {
     "base_uri": "https://localhost:8080/",
     "height": 401
    },
    "colab_type": "code",
    "executionInfo": {
     "elapsed": 570487,
     "status": "ok",
     "timestamp": 1583160411460,
     "user": {
      "displayName": "mahesh karigoudar",
      "photoUrl": "https://lh3.googleusercontent.com/a-/AOh14Gi_yTUQrvxGFb7UM73B9yjv83kCtzRRN_EMGbsPgQ=s64",
      "userId": "04943900557129435620"
     },
     "user_tz": -330
    },
    "id": "pHxLSma3m5G7",
    "outputId": "cb7c45a2-4f6e-41bd-8d34-bf36e4905d18"
   },
   "outputs": [
    {
     "name": "stdout",
     "output_type": "stream",
     "text": [
      "Epoch 1/10\n",
      "Source path =  /content/drive/My Drive/data science/Project_data/val ; batch size = 50\n",
      "14/14 [==============================] - 8s 584ms/step - loss: 0.3108 - categorical_accuracy: 0.0832 - val_loss: 0.1612 - val_categorical_accuracy: 0.0100\n",
      "Epoch 2/10\n",
      "14/14 [==============================] - 4s 264ms/step - loss: 0.3154 - categorical_accuracy: 0.0043 - val_loss: 0.2129 - val_categorical_accuracy: 0.0000e+00\n",
      "Epoch 3/10\n",
      "14/14 [==============================] - 4s 261ms/step - loss: 0.1892 - categorical_accuracy: 0.0115 - val_loss: 2.3842e-09 - val_categorical_accuracy: 0.0200\n",
      "Epoch 4/10\n",
      "14/14 [==============================] - 4s 261ms/step - loss: 0.3616 - categorical_accuracy: 0.0014 - val_loss: 0.3224 - val_categorical_accuracy: 0.0000e+00\n",
      "Epoch 5/10\n",
      "14/14 [==============================] - 3s 237ms/step - loss: 0.3154 - categorical_accuracy: 0.0043 - val_loss: 0.3224 - val_categorical_accuracy: 0.0000e+00\n",
      "Epoch 6/10\n",
      "14/14 [==============================] - 116s 8s/step - loss: 0.3154 - categorical_accuracy: 0.0043 - val_loss: 0.3224 - val_categorical_accuracy: 0.0000e+00\n",
      "Epoch 7/10\n",
      "14/14 [==============================] - 94s 7s/step - loss: 0.3616 - categorical_accuracy: 0.0014 - val_loss: 0.3224 - val_categorical_accuracy: 0.0000e+00\n",
      "Epoch 8/10\n",
      "14/14 [==============================] - 108s 8s/step - loss: 0.2923 - categorical_accuracy: 0.0057 - val_loss: 0.1612 - val_categorical_accuracy: 0.0100\n",
      "Epoch 9/10\n",
      "14/14 [==============================] - 125s 9s/step - loss: 0.2923 - categorical_accuracy: 0.0057 - val_loss: 0.1612 - val_categorical_accuracy: 0.0100\n",
      "Epoch 10/10\n",
      "14/14 [==============================] - 102s 7s/step - loss: 0.2542 - categorical_accuracy: 0.0081 - val_loss: 0.1612 - val_categorical_accuracy: 0.0100\n"
     ]
    }
   ],
   "source": [
    "history1=model.fit_generator(train_generator, steps_per_epoch=steps_per_epoch, epochs=10, verbose=1, \n",
    "                    validation_data=val_generator, \n",
    "                    validation_steps=validation_steps,\n",
    "                    class_weight=None,\n",
    "                    workers=1, \n",
    "                    initial_epoch=0)"
   ]
  },
  {
   "cell_type": "markdown",
   "metadata": {
    "colab_type": "text",
    "id": "7pBJWXBFm7eB"
   },
   "source": [
    "<a id='section1'></a>\n",
    "\n",
    "## model 3 CNN 3D(model with 98% accuracy with just 650,997 trainable parameters) Best and final Model\n",
    "\n",
    "same model as above but reducing the neurons of dense layers"
   ]
  },
  {
   "cell_type": "code",
   "execution_count": 0,
   "metadata": {
    "colab": {},
    "colab_type": "code",
    "id": "_m-f1plJm-i4"
   },
   "outputs": [],
   "source": [
    "from keras.models import Sequential, Model\n",
    "from keras.layers import Dense, GRU, Flatten, TimeDistributed, Flatten, BatchNormalization, Activation\n",
    "from keras.layers.convolutional import Conv3D, MaxPooling3D\n",
    "from keras.callbacks import ModelCheckpoint, ReduceLROnPlateau\n",
    "from keras.layers import Dense, Dropout, Activation, Flatten\n",
    "from keras import optimizers\n",
    "\n",
    "#write your model here\n",
    "from keras.models import Sequential, Model\n",
    "from keras.layers import Dense, GRU, Flatten, TimeDistributed, Flatten, BatchNormalization, Activation, Dropout\n",
    "from keras.layers.convolutional import Conv3D, MaxPooling3D\n",
    "from keras.callbacks import ModelCheckpoint, ReduceLROnPlateau\n",
    "from keras import optimizers\n",
    "\n",
    "#write your model here\n",
    "nb_filters = [8,16,32,64]\n",
    "nb_dense = [1000, 500, 5]\n",
    "\n",
    "        \n",
    "model = Sequential()\n",
    "\n",
    "model.add(Conv3D(8, kernel_size=(3,3,3), input_shape=[20, 100, 100, 3], padding='same'))\n",
    "model.add(BatchNormalization())\n",
    "model.add(Activation('relu'))\n",
    "#model.add(Dropout(0.25))\n",
    "\n",
    "model.add(MaxPooling3D(pool_size=(2,2,2)))\n",
    "\n",
    "model.add(Conv3D(16, kernel_size=(3,3,3), padding='same'))\n",
    "model.add(BatchNormalization())\n",
    "model.add(Activation('relu'))\n",
    "#model.add(Dropout(0.25))\n",
    "\n",
    "model.add(MaxPooling3D(pool_size=(2,2,2)))\n",
    "\n",
    "model.add(Conv3D(32, kernel_size=(1,3,3), padding='same'))\n",
    "model.add(BatchNormalization())\n",
    "model.add(Activation('relu'))\n",
    "#model.add(Dropout(0.25))\n",
    "\n",
    "model.add(MaxPooling3D(pool_size=(2,2,2)))\n",
    "\n",
    "model.add(Conv3D(64, kernel_size=(1,3,3), padding='same'))\n",
    "model.add(Activation('relu'))\n",
    "#model.add(Dropout(0.25))\n",
    "\n",
    "model.add(MaxPooling3D(pool_size=(2,2,2)))\n",
    "\n",
    "#Flatten Layers\n",
    "model.add(Flatten())\n",
    "\n",
    "model.add(Dense(256, activation='relu'))\n",
    "#model.add(Dropout(0.5))\n",
    "\n",
    "model.add(Dense(128, activation='relu'))\n",
    "#model.add(Dropout(0.5))\n",
    "\n",
    "#softmax layer\n",
    "model.add(Dense(5, activation='softmax'))"
   ]
  },
  {
   "cell_type": "code",
   "execution_count": 170,
   "metadata": {
    "colab": {
     "base_uri": "https://localhost:8080/",
     "height": 832
    },
    "colab_type": "code",
    "executionInfo": {
     "elapsed": 1552,
     "status": "ok",
     "timestamp": 1583161334545,
     "user": {
      "displayName": "mahesh karigoudar",
      "photoUrl": "https://lh3.googleusercontent.com/a-/AOh14Gi_yTUQrvxGFb7UM73B9yjv83kCtzRRN_EMGbsPgQ=s64",
      "userId": "04943900557129435620"
     },
     "user_tz": -330
    },
    "id": "C2-n4KcmnDQ4",
    "outputId": "a4bd8e7f-938b-4ca1-f272-5b0c1c073da5"
   },
   "outputs": [
    {
     "name": "stdout",
     "output_type": "stream",
     "text": [
      "Model: \"sequential_12\"\n",
      "_________________________________________________________________\n",
      "Layer (type)                 Output Shape              Param #   \n",
      "=================================================================\n",
      "conv3d_47 (Conv3D)           (None, 20, 100, 100, 8)   656       \n",
      "_________________________________________________________________\n",
      "batch_normalization_15 (Batc (None, 20, 100, 100, 8)   32        \n",
      "_________________________________________________________________\n",
      "activation_61 (Activation)   (None, 20, 100, 100, 8)   0         \n",
      "_________________________________________________________________\n",
      "max_pooling3d_31 (MaxPooling (None, 10, 50, 50, 8)     0         \n",
      "_________________________________________________________________\n",
      "conv3d_48 (Conv3D)           (None, 10, 50, 50, 16)    3472      \n",
      "_________________________________________________________________\n",
      "batch_normalization_16 (Batc (None, 10, 50, 50, 16)    64        \n",
      "_________________________________________________________________\n",
      "activation_62 (Activation)   (None, 10, 50, 50, 16)    0         \n",
      "_________________________________________________________________\n",
      "max_pooling3d_32 (MaxPooling (None, 5, 25, 25, 16)     0         \n",
      "_________________________________________________________________\n",
      "conv3d_49 (Conv3D)           (None, 5, 25, 25, 32)     4640      \n",
      "_________________________________________________________________\n",
      "batch_normalization_17 (Batc (None, 5, 25, 25, 32)     128       \n",
      "_________________________________________________________________\n",
      "activation_63 (Activation)   (None, 5, 25, 25, 32)     0         \n",
      "_________________________________________________________________\n",
      "max_pooling3d_33 (MaxPooling (None, 2, 12, 12, 32)     0         \n",
      "_________________________________________________________________\n",
      "conv3d_50 (Conv3D)           (None, 2, 12, 12, 64)     18496     \n",
      "_________________________________________________________________\n",
      "activation_64 (Activation)   (None, 2, 12, 12, 64)     0         \n",
      "_________________________________________________________________\n",
      "max_pooling3d_34 (MaxPooling (None, 1, 6, 6, 64)       0         \n",
      "_________________________________________________________________\n",
      "flatten_12 (Flatten)         (None, 2304)              0         \n",
      "_________________________________________________________________\n",
      "dense_27 (Dense)             (None, 256)               590080    \n",
      "_________________________________________________________________\n",
      "dense_28 (Dense)             (None, 128)               32896     \n",
      "_________________________________________________________________\n",
      "dense_29 (Dense)             (None, 5)                 645       \n",
      "=================================================================\n",
      "Total params: 651,109\n",
      "Trainable params: 650,997\n",
      "Non-trainable params: 112\n",
      "_________________________________________________________________\n",
      "None\n"
     ]
    }
   ],
   "source": [
    "optimiser ='adam' #write your optimizer\n",
    "model.compile(optimizer=optimiser, loss='categorical_crossentropy', metrics=['categorical_accuracy'])\n",
    "print (model.summary())"
   ]
  },
  {
   "cell_type": "code",
   "execution_count": null,
   "metadata": {},
   "outputs": [],
   "source": [
    "train_generator = generator(train_path, train_doc, batch_size)\n",
    "val_generator = generator(val_path, val_doc, batch_size)"
   ]
  },
  {
   "cell_type": "code",
   "execution_count": 171,
   "metadata": {
    "colab": {
     "base_uri": "https://localhost:8080/",
     "height": 852
    },
    "colab_type": "code",
    "executionInfo": {
     "elapsed": 49418,
     "status": "ok",
     "timestamp": 1583161389583,
     "user": {
      "displayName": "mahesh karigoudar",
      "photoUrl": "https://lh3.googleusercontent.com/a-/AOh14Gi_yTUQrvxGFb7UM73B9yjv83kCtzRRN_EMGbsPgQ=s64",
      "userId": "04943900557129435620"
     },
     "user_tz": -330
    },
    "id": "ya818dB9nG1V",
    "outputId": "ce54ed14-b48b-4671-8c20-457b3314e742"
   },
   "outputs": [
    {
     "name": "stdout",
     "output_type": "stream",
     "text": [
      "Epoch 1/10\n",
      "Source path =  /content/drive/My Drive/data science/Project_data/val ; batch size = 50\n",
      "14/14 [==============================] - 8s 584ms/step - loss: 0.2225 - categorical_accuracy: 0.9154 - val_loss: 0.3224 - val_categorical_accuracy: 0.9800\n",
      "\n",
      "Epoch 00001: saving model to model_init_2020-03-0215_01_52.598937/model-00001-0.23400-0.91101-0.32236-0.98000.h5\n",
      "Epoch 2/10\n",
      "14/14 [==============================] - 4s 262ms/step - loss: 0.2692 - categorical_accuracy: 0.9833 - val_loss: 0.3224 - val_categorical_accuracy: 0.9800\n",
      "\n",
      "Epoch 00002: saving model to model_init_2020-03-0215_01_52.598937/model-00002-0.21880-0.98643-0.32236-0.98000.h5\n",
      "Epoch 3/10\n",
      "14/14 [==============================] - 4s 266ms/step - loss: 0.3385 - categorical_accuracy: 0.9790 - val_loss: 0.1612 - val_categorical_accuracy: 0.9900\n",
      "\n",
      "Epoch 00003: saving model to model_init_2020-03-0215_01_52.598937/model-00003-0.29173-0.98190-0.16118-0.99000.h5\n",
      "Epoch 4/10\n",
      "14/14 [==============================] - 4s 263ms/step - loss: 0.3154 - categorical_accuracy: 0.9804 - val_loss: 0.1612 - val_categorical_accuracy: 0.9900\n",
      "\n",
      "Epoch 00004: saving model to model_init_2020-03-0215_01_52.598937/model-00004-0.26742-0.98341-0.16118-0.99000.h5\n",
      "Epoch 5/10\n",
      "14/14 [==============================] - 4s 262ms/step - loss: 0.3385 - categorical_accuracy: 0.9790 - val_loss: 0.3224 - val_categorical_accuracy: 0.9800\n",
      "\n",
      "Epoch 00005: saving model to model_init_2020-03-0215_01_52.598937/model-00005-0.29173-0.98190-0.32236-0.98000.h5\n",
      "\n",
      "Epoch 00005: ReduceLROnPlateau reducing learning rate to 0.0005000000237487257.\n",
      "Epoch 6/10\n",
      "14/14 [==============================] - 4s 268ms/step - loss: 0.2311 - categorical_accuracy: 0.9857 - val_loss: 0.3224 - val_categorical_accuracy: 0.9800\n",
      "\n",
      "Epoch 00006: saving model to model_init_2020-03-0215_01_52.598937/model-00006-0.24311-0.98492-0.32236-0.98000.h5\n",
      "Epoch 7/10\n",
      "14/14 [==============================] - 4s 266ms/step - loss: 0.2692 - categorical_accuracy: 0.9833 - val_loss: 0.3224 - val_categorical_accuracy: 0.9800\n",
      "\n",
      "Epoch 00007: saving model to model_init_2020-03-0215_01_52.598937/model-00007-0.21880-0.98643-0.32236-0.98000.h5\n",
      "\n",
      "Epoch 00007: ReduceLROnPlateau reducing learning rate to 0.0002500000118743628.\n",
      "Epoch 8/10\n",
      "14/14 [==============================] - 4s 264ms/step - loss: 0.2773 - categorical_accuracy: 0.9828 - val_loss: 0.3224 - val_categorical_accuracy: 0.9800\n",
      "\n",
      "Epoch 00008: saving model to model_init_2020-03-0215_01_52.598937/model-00008-0.29173-0.98190-0.32236-0.98000.h5\n",
      "Epoch 9/10\n",
      "14/14 [==============================] - 4s 262ms/step - loss: 0.3385 - categorical_accuracy: 0.9790 - val_loss: 0.3224 - val_categorical_accuracy: 0.9800\n",
      "\n",
      "Epoch 00009: saving model to model_init_2020-03-0215_01_52.598937/model-00009-0.29173-0.98190-0.32236-0.98000.h5\n",
      "\n",
      "Epoch 00009: ReduceLROnPlateau reducing learning rate to 0.0001250000059371814.\n",
      "Epoch 10/10\n",
      "14/14 [==============================] - 3s 246ms/step - loss: 0.3616 - categorical_accuracy: 0.9776 - val_loss: 0.3224 - val_categorical_accuracy: 0.9800\n",
      "\n",
      "Epoch 00010: saving model to model_init_2020-03-0215_01_52.598937/model-00010-0.31604-0.98039-0.32236-0.98000.h5\n"
     ]
    }
   ],
   "source": [
    "history2=model.fit_generator(train_generator, steps_per_epoch=steps_per_epoch, epochs=10, verbose=1, \n",
    "                    validation_data=val_generator, \n",
    "                    validation_steps=validation_steps,callbacks=callbacks_list,\n",
    "                    class_weight=None, \n",
    "                    workers=1, \n",
    "                    initial_epoch=0)"
   ]
  },
  {
   "cell_type": "code",
   "execution_count": 172,
   "metadata": {
    "colab": {
     "base_uri": "https://localhost:8080/",
     "height": 295
    },
    "colab_type": "code",
    "executionInfo": {
     "elapsed": 1490,
     "status": "ok",
     "timestamp": 1583161397164,
     "user": {
      "displayName": "mahesh karigoudar",
      "photoUrl": "https://lh3.googleusercontent.com/a-/AOh14Gi_yTUQrvxGFb7UM73B9yjv83kCtzRRN_EMGbsPgQ=s64",
      "userId": "04943900557129435620"
     },
     "user_tz": -330
    },
    "id": "D3TXG17tw2F4",
    "outputId": "03552962-effd-4557-8d3b-d8094747cf6f"
   },
   "outputs": [
    {
     "data": {
      "image/png": "[encoded data removed]",
      "text/plain": [
       "<Figure size 432x288 with 1 Axes>"
      ]
     },
     "metadata": {
      "tags": []
     },
     "output_type": "display_data"
    }
   ],
   "source": [
    "plt.plot(history2.history['categorical_accuracy'])\n",
    "plt.plot(history2.history['val_categorical_accuracy'])\n",
    "plt.title('model accuracy')\n",
    "plt.ylabel('accuracy')\n",
    "plt.xlabel('epoch')\n",
    "plt.legend(['train', 'test'], loc='upper left')\n",
    "plt.show()"
   ]
  },
  {
   "cell_type": "markdown",
   "metadata": {
    "colab_type": "text",
    "id": "a70V-SFdw936"
   },
   "source": [
    "##### MODEL3 is the best model we could find with less number of trainable parameters"
   ]
  },
  {
   "cell_type": "markdown",
   "metadata": {
    "colab_type": "text",
    "id": "cAZXtMZAnUbS"
   },
   "source": [
    "## model 4 CNN2D + GRU(RNN)"
   ]
  },
  {
   "cell_type": "code",
   "execution_count": 192,
   "metadata": {
    "colab": {
     "base_uri": "https://localhost:8080/",
     "height": 141
    },
    "colab_type": "code",
    "executionInfo": {
     "elapsed": 2079,
     "status": "ok",
     "timestamp": 1583161594734,
     "user": {
      "displayName": "mahesh karigoudar",
      "photoUrl": "https://lh3.googleusercontent.com/a-/AOh14Gi_yTUQrvxGFb7UM73B9yjv83kCtzRRN_EMGbsPgQ=s64",
      "userId": "04943900557129435620"
     },
     "user_tz": -330
    },
    "id": "gJRVys8VnVfU",
    "outputId": "d56c0bac-e26f-4659-c82d-ff2bab8b45e6"
   },
   "outputs": [
    {
     "name": "stdout",
     "output_type": "stream",
     "text": [
      "(None, 20, 98, 98, 64)\n",
      "WARNING:tensorflow:From /usr/local/lib/python3.6/dist-packages/keras/backend/tensorflow_backend.py:4267: The name tf.nn.max_pool is deprecated. Please use tf.nn.max_pool2d instead.\n",
      "\n",
      "(None, 20, 49, 49, 64)\n",
      "(None, 20, 50)\n",
      "(None, 10)\n"
     ]
    }
   ],
   "source": [
    "\n",
    "from keras.models import Sequential, Model\n",
    "from keras.layers import Dense, GRU, Flatten, TimeDistributed, Flatten, BatchNormalization, Activation\n",
    "from keras.layers.convolutional import Conv2D, MaxPooling2D\n",
    "from keras.callbacks import ModelCheckpoint, ReduceLROnPlateau\n",
    "from keras.layers import Dense, Dropout, Activation, Flatten\n",
    "from keras import optimizers\n",
    "from numpy import array\n",
    "from keras.models import Sequential\n",
    "from keras.layers import Dense\n",
    "from keras.layers import LSTM\n",
    "from keras.layers import GRU\n",
    "\n",
    "model = Sequential()\n",
    "model.add(TimeDistributed(Conv2D(64, (3, 3)), input_shape=[20, 100, 100, 3]))\n",
    "print(model.output_shape)\n",
    "\n",
    "model.add(TimeDistributed(MaxPooling2D(pool_size=(2, 2))))\n",
    "print(model.output_shape)\n",
    "model.add(TimeDistributed(Flatten()))\n",
    "model.add(Dense(50))\n",
    "print(model.output_shape)\n",
    "\n",
    "model.add(GRU(10))\n",
    "\n",
    "print(model.output_shape)\n",
    "model.add(Dense(5, activation='softmax'))"
   ]
  },
  {
   "cell_type": "code",
   "execution_count": 193,
   "metadata": {
    "colab": {
     "base_uri": "https://localhost:8080/",
     "height": 381
    },
    "colab_type": "code",
    "executionInfo": {
     "elapsed": 1309,
     "status": "ok",
     "timestamp": 1583161599103,
     "user": {
      "displayName": "mahesh karigoudar",
      "photoUrl": "https://lh3.googleusercontent.com/a-/AOh14Gi_yTUQrvxGFb7UM73B9yjv83kCtzRRN_EMGbsPgQ=s64",
      "userId": "04943900557129435620"
     },
     "user_tz": -330
    },
    "id": "E7fkWPfand6e",
    "outputId": "80f6aa5a-f196-4f8f-f191-6abe030bc559"
   },
   "outputs": [
    {
     "name": "stdout",
     "output_type": "stream",
     "text": [
      "Model: \"sequential_14\"\n",
      "_________________________________________________________________\n",
      "Layer (type)                 Output Shape              Param #   \n",
      "=================================================================\n",
      "time_distributed_1 (TimeDist (None, 20, 98, 98, 64)    1792      \n",
      "_________________________________________________________________\n",
      "time_distributed_2 (TimeDist (None, 20, 49, 49, 64)    0         \n",
      "_________________________________________________________________\n",
      "time_distributed_3 (TimeDist (None, 20, 153664)        0         \n",
      "_________________________________________________________________\n",
      "dense_32 (Dense)             (None, 20, 50)            7683250   \n",
      "_________________________________________________________________\n",
      "gru_1 (GRU)                  (None, 10)                1830      \n",
      "_________________________________________________________________\n",
      "dense_33 (Dense)             (None, 5)                 55        \n",
      "=================================================================\n",
      "Total params: 7,686,927\n",
      "Trainable params: 7,686,927\n",
      "Non-trainable params: 0\n",
      "_________________________________________________________________\n",
      "None\n"
     ]
    }
   ],
   "source": [
    "optimiser ='adam' #write your optimizer\n",
    "model.compile(optimizer=optimiser, loss='categorical_crossentropy', metrics=['categorical_accuracy'])\n",
    "print (model.summary())"
   ]
  },
  {
   "cell_type": "code",
   "execution_count": null,
   "metadata": {},
   "outputs": [],
   "source": [
    "train_generator = generator(train_path, train_doc, batch_size)\n",
    "val_generator = generator(val_path, val_doc, batch_size)"
   ]
  },
  {
   "cell_type": "code",
   "execution_count": 194,
   "metadata": {
    "colab": {
     "base_uri": "https://localhost:8080/",
     "height": 401
    },
    "colab_type": "code",
    "executionInfo": {
     "elapsed": 973034,
     "status": "ok",
     "timestamp": 1583162575897,
     "user": {
      "displayName": "mahesh karigoudar",
      "photoUrl": "https://lh3.googleusercontent.com/a-/AOh14Gi_yTUQrvxGFb7UM73B9yjv83kCtzRRN_EMGbsPgQ=s64",
      "userId": "04943900557129435620"
     },
     "user_tz": -330
    },
    "id": "z4zxNSu8nekE",
    "outputId": "bfd71f02-f13e-4a37-caba-fc36270c2d41"
   },
   "outputs": [
    {
     "name": "stdout",
     "output_type": "stream",
     "text": [
      "Epoch 1/10\n",
      "Source path =  /content/drive/My Drive/data science/Project_data/val ; batch size = 50\n",
      "14/14 [==============================] - 13s 910ms/step - loss: 0.0561 - categorical_accuracy: 0.9819 - val_loss: 0.0408 - val_categorical_accuracy: 0.9800\n",
      "Epoch 2/10\n",
      "14/14 [==============================] - 113s 8s/step - loss: 0.0459 - categorical_accuracy: 0.4259 - val_loss: 0.0581 - val_categorical_accuracy: 0.0000e+00\n",
      "Epoch 3/10\n",
      "14/14 [==============================] - 122s 9s/step - loss: 0.0494 - categorical_accuracy: 0.0029 - val_loss: 0.0329 - val_categorical_accuracy: 0.0000e+00\n",
      "Epoch 4/10\n",
      "14/14 [==============================] - 102s 7s/step - loss: 0.0507 - categorical_accuracy: 0.0014 - val_loss: 0.0663 - val_categorical_accuracy: 0.0000e+00\n",
      "Epoch 5/10\n",
      "14/14 [==============================] - 121s 9s/step - loss: 0.0452 - categorical_accuracy: 0.0067 - val_loss: 0.0302 - val_categorical_accuracy: 0.0000e+00\n",
      "Epoch 6/10\n",
      "14/14 [==============================] - 79s 6s/step - loss: 0.0451 - categorical_accuracy: 0.0067 - val_loss: 0.0319 - val_categorical_accuracy: 0.0100\n",
      "Epoch 7/10\n",
      "14/14 [==============================] - 103s 7s/step - loss: 0.0395 - categorical_accuracy: 0.0057 - val_loss: 0.0370 - val_categorical_accuracy: 0.0000e+00\n",
      "Epoch 8/10\n",
      "14/14 [==============================] - 114s 8s/step - loss: 0.0406 - categorical_accuracy: 0.1373 - val_loss: 0.0296 - val_categorical_accuracy: 0.9900\n",
      "Epoch 9/10\n",
      "14/14 [==============================] - 119s 8s/step - loss: 0.0481 - categorical_accuracy: 0.9842 - val_loss: 0.0239 - val_categorical_accuracy: 0.9900\n",
      "Epoch 10/10\n",
      "14/14 [==============================] - 84s 6s/step - loss: 0.0483 - categorical_accuracy: 0.9790 - val_loss: 0.0400 - val_categorical_accuracy: 0.9800\n"
     ]
    }
   ],
   "source": [
    "history3=model.fit_generator(train_generator, steps_per_epoch=steps_per_epoch, epochs=10, verbose=1, \n",
    "                    validation_data=val_generator, \n",
    "                    validation_steps=validation_steps,\n",
    "                    class_weight=None, \n",
    "                    workers=1, \n",
    "                    initial_epoch=0)"
   ]
  },
  {
   "cell_type": "code",
   "execution_count": 195,
   "metadata": {
    "colab": {
     "base_uri": "https://localhost:8080/",
     "height": 295
    },
    "colab_type": "code",
    "executionInfo": {
     "elapsed": 1497,
     "status": "ok",
     "timestamp": 1583162588534,
     "user": {
      "displayName": "mahesh karigoudar",
      "photoUrl": "https://lh3.googleusercontent.com/a-/AOh14Gi_yTUQrvxGFb7UM73B9yjv83kCtzRRN_EMGbsPgQ=s64",
      "userId": "04943900557129435620"
     },
     "user_tz": -330
    },
    "id": "laUJU25I10HI",
    "outputId": "8329c018-67e9-40d5-a57a-8ab5550efc18"
   },
   "outputs": [
    {
     "data": {
      "image/png": "[encoded data removed]",
      "text/plain": [
       "<Figure size 432x288 with 1 Axes>"
      ]
     },
     "metadata": {
      "tags": []
     },
     "output_type": "display_data"
    }
   ],
   "source": [
    "plt.plot(history3.history['categorical_accuracy'])\n",
    "plt.plot(history3.history['val_categorical_accuracy'])\n",
    "plt.title('model accuracy')\n",
    "plt.ylabel('accuracy')\n",
    "plt.xlabel('epoch')\n",
    "plt.legend(['train', 'test'], loc='upper left')\n",
    "plt.show()"
   ]
  },
  {
   "cell_type": "markdown",
   "metadata": {
    "colab_type": "text",
    "id": "r9_pJitcn6m_"
   },
   "source": [
    "Model 4 : we got some good models with 98% accuracy but the model is very unstable"
   ]
  },
  {
   "cell_type": "markdown",
   "metadata": {
    "colab_type": "text",
    "id": "9KumrQWqoL7y"
   },
   "source": [
    "## Model 5 (transfer learning CNN and GRU)"
   ]
  },
  {
   "cell_type": "code",
   "execution_count": 242,
   "metadata": {
    "colab": {
     "base_uri": "https://localhost:8080/",
     "height": 52
    },
    "colab_type": "code",
    "executionInfo": {
     "elapsed": 5244,
     "status": "ok",
     "timestamp": 1583163130757,
     "user": {
      "displayName": "mahesh karigoudar",
      "photoUrl": "https://lh3.googleusercontent.com/a-/AOh14Gi_yTUQrvxGFb7UM73B9yjv83kCtzRRN_EMGbsPgQ=s64",
      "userId": "04943900557129435620"
     },
     "user_tz": -330
    },
    "id": "fCSVx2PCoJxW",
    "outputId": "a9b80d5c-bcb7-45b0-e660-572417ed707a"
   },
   "outputs": [
    {
     "name": "stdout",
     "output_type": "stream",
     "text": [
      "Tensor(\"block5_pool_2/MaxPool:0\", shape=(?, ?, ?, 512), dtype=float32)\n",
      "base_model.input Tensor(\"input_5:0\", shape=(?, ?, ?, 3), dtype=float32)\n"
     ]
    }
   ],
   "source": [
    "from keras.applications import ResNet50\n",
    "from keras.applications.vgg16 import VGG16\n",
    "from keras.applications.vgg19 import VGG19\n",
    "from keras.applications.inception_v3 import InceptionV3\n",
    "from keras.layers import Input, Add, Dense, Activation, ZeroPadding2D, BatchNormalization, Flatten, Conv2D, AveragePooling2D, MaxPooling2D, GlobalAveragePooling2D\n",
    "\n",
    "def get_model():\n",
    "    \n",
    "    base_model = VGG16(weights='imagenet', include_top=False)\n",
    "    \n",
    "    # freeze the layers in base model\n",
    "    #for layer in base_model.layers:\n",
    "     #   layer.trainable = False\n",
    "        \n",
    "    # Get the output from the base model \n",
    "    base_model_ouput = base_model.output\n",
    "    print(base_model_ouput)\n",
    "\n",
    "\n",
    "   \n",
    "    print(\"base_model.input\",base_model.input)\n",
    "    input_layer = Input(shape=[20, 100, 100, 3])\n",
    "    x = TimeDistributed(base_model)(input_layer)\n",
    "    \n",
    "    \n",
    "    #x = TimeDistributed(GlobalAveragePooling2D())(x)\n",
    "    x=TimeDistributed(MaxPooling2D(pool_size=(2, 2)))(x)\n",
    "    \n",
    "    x=TimeDistributed(Flatten())(x)\n",
    "    x=GRU(512)(x)\n",
    " \n",
    "    x = Dense(512, activation='relu')(x)\n",
    "  \n",
    "    x = Dense(5, activation='softmax', name='fcnew')(x)\n",
    "    \n",
    "    model = Model(inputs=input_layer, outputs=x)\n",
    "\n",
    "    return model\n",
    "model=get_model()"
   ]
  },
  {
   "cell_type": "code",
   "execution_count": 243,
   "metadata": {
    "colab": {
     "base_uri": "https://localhost:8080/",
     "height": 416
    },
    "colab_type": "code",
    "executionInfo": {
     "elapsed": 1593,
     "status": "ok",
     "timestamp": 1583163134305,
     "user": {
      "displayName": "mahesh karigoudar",
      "photoUrl": "https://lh3.googleusercontent.com/a-/AOh14Gi_yTUQrvxGFb7UM73B9yjv83kCtzRRN_EMGbsPgQ=s64",
      "userId": "04943900557129435620"
     },
     "user_tz": -330
    },
    "id": "_xPZXf182Yii",
    "outputId": "b1ad720b-dd0b-4034-b13b-6101add80398"
   },
   "outputs": [
    {
     "name": "stdout",
     "output_type": "stream",
     "text": [
      "Model: \"model_3\"\n",
      "_________________________________________________________________\n",
      "Layer (type)                 Output Shape              Param #   \n",
      "=================================================================\n",
      "input_6 (InputLayer)         (None, 20, 100, 100, 3)   0         \n",
      "_________________________________________________________________\n",
      "time_distributed_10 (TimeDis (None, 20, 3, 3, 512)     14714688  \n",
      "_________________________________________________________________\n",
      "time_distributed_11 (TimeDis (None, 20, 1, 1, 512)     0         \n",
      "_________________________________________________________________\n",
      "time_distributed_12 (TimeDis (None, 20, 512)           0         \n",
      "_________________________________________________________________\n",
      "gru_4 (GRU)                  (None, 512)               1574400   \n",
      "_________________________________________________________________\n",
      "dense_40 (Dense)             (None, 512)               262656    \n",
      "_________________________________________________________________\n",
      "fcnew (Dense)                (None, 5)                 2565      \n",
      "=================================================================\n",
      "Total params: 16,554,309\n",
      "Trainable params: 16,554,309\n",
      "Non-trainable params: 0\n",
      "_________________________________________________________________\n",
      "None\n"
     ]
    }
   ],
   "source": [
    "optimiser ='adam' #write your optimizer\n",
    "model.compile(optimizer=optimiser, loss='categorical_crossentropy', metrics=['categorical_accuracy'])\n",
    "print (model.summary())"
   ]
  },
  {
   "cell_type": "code",
   "execution_count": null,
   "metadata": {},
   "outputs": [],
   "source": [
    "train_generator = generator(train_path, train_doc, batch_size)\n",
    "val_generator = generator(val_path, val_doc, batch_size)"
   ]
  },
  {
   "cell_type": "code",
   "execution_count": 245,
   "metadata": {
    "colab": {
     "base_uri": "https://localhost:8080/",
     "height": 419
    },
    "colab_type": "code",
    "executionInfo": {
     "elapsed": 1409419,
     "status": "ok",
     "timestamp": 1583164550857,
     "user": {
      "displayName": "mahesh karigoudar",
      "photoUrl": "https://lh3.googleusercontent.com/a-/AOh14Gi_yTUQrvxGFb7UM73B9yjv83kCtzRRN_EMGbsPgQ=s64",
      "userId": "04943900557129435620"
     },
     "user_tz": -330
    },
    "id": "XqIRvSad2gIQ",
    "outputId": "ef25d166-a967-4097-fde4-5e5ed79ead74"
   },
   "outputs": [
    {
     "name": "stdout",
     "output_type": "stream",
     "text": [
      "Epoch 1/10\n",
      "Source path =  /content/drive/My Drive/data science/Project_data/val ; batch size = 25\n",
      "Source path =  /content/drive/My Drive/data science/Project_data/train ; batch size = 25\n",
      "27/27 [==============================] - 221s 8s/step - loss: 0.0978 - categorical_accuracy: 0.1127 - val_loss: 0.0537 - val_categorical_accuracy: 0.0200\n",
      "Epoch 2/10\n",
      "27/27 [==============================] - 138s 5s/step - loss: 0.1186 - categorical_accuracy: 0.2876 - val_loss: 0.0686 - val_categorical_accuracy: 0.0200\n",
      "Epoch 3/10\n",
      "27/27 [==============================] - 141s 5s/step - loss: 0.0943 - categorical_accuracy: 0.0117 - val_loss: 0.0678 - val_categorical_accuracy: 0.0100\n",
      "Epoch 4/10\n",
      "27/27 [==============================] - 139s 5s/step - loss: 0.0788 - categorical_accuracy: 0.2876 - val_loss: 0.0561 - val_categorical_accuracy: 0.0200\n",
      "Epoch 5/10\n",
      "27/27 [==============================] - 171s 6s/step - loss: 0.0710 - categorical_accuracy: 0.0072 - val_loss: 0.0603 - val_categorical_accuracy: 0.0100\n",
      "Epoch 6/10\n",
      "27/27 [==============================] - 129s 5s/step - loss: 0.0800 - categorical_accuracy: 0.3943 - val_loss: 0.0652 - val_categorical_accuracy: 0.0100\n",
      "Epoch 7/10\n",
      "27/27 [==============================] - 125s 5s/step - loss: 0.0648 - categorical_accuracy: 0.0488 - val_loss: 0.0952 - val_categorical_accuracy: 0.0000e+00\n",
      "Epoch 8/10\n",
      "27/27 [==============================] - 155s 6s/step - loss: 0.0714 - categorical_accuracy: 0.0119 - val_loss: 0.0658 - val_categorical_accuracy: 0.0100\n",
      "Epoch 9/10\n",
      "27/27 [==============================] - 93s 3s/step - loss: 0.0699 - categorical_accuracy: 0.0117 - val_loss: 0.0961 - val_categorical_accuracy: 0.0000e+00\n",
      "Epoch 10/10\n",
      "27/27 [==============================] - 95s 4s/step - loss: 0.0740 - categorical_accuracy: 0.0089 - val_loss: 0.0778 - val_categorical_accuracy: 0.0000e+00\n"
     ]
    }
   ],
   "source": [
    "history4=model.fit_generator(train_generator, steps_per_epoch=steps_per_epoch, epochs=10, verbose=1, \n",
    "                    validation_data=val_generator, \n",
    "                    validation_steps=validation_steps,\n",
    "                    class_weight=None, \n",
    "                    workers=1, \n",
    "                    initial_epoch=0)"
   ]
  },
  {
   "cell_type": "markdown",
   "metadata": {
    "colab_type": "text",
    "id": "mPNp8hGlDgqJ"
   },
   "source": [
    "**This model didn't provide good accuracy**"
   ]
  },
  {
   "cell_type": "markdown",
   "metadata": {
    "colab": {},
    "colab_type": "code",
    "id": "6eO4bjBR3B-t"
   },
   "source": [
    "## Model 3 is the best model with only 6 lacs trainable parameters \n",
    "***please Note:In order to get the same accuracy batch size should be 50 for all models***"
   ]
  },
  {
   "cell_type": "code",
   "execution_count": null,
   "metadata": {},
   "outputs": [],
   "source": []
  }
 ],
 "metadata": {
  "accelerator": "GPU",
  "colab": {
   "name": "Neural_Nets_Project_Starter_Code.ipynb",
   "provenance": []
  },
  "kernelspec": {
   "display_name": "Python 3",
   "language": "python",
   "name": "python3"
  },
  "language_info": {
   "codemirror_mode": {
    "name": "ipython",
    "version": 3
   },
   "file_extension": ".py",
   "mimetype": "text/x-python",
   "name": "python",
   "nbconvert_exporter": "python",
   "pygments_lexer": "ipython3",
   "version": "3.6.10"
  }
 },
 "nbformat": 4,
 "nbformat_minor": 1
}
